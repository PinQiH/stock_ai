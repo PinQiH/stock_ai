{
  "cells": [
    {
      "cell_type": "code",
      "execution_count": null,
      "metadata": {
        "id": "qTeuqvUKIbLZ"
      },
      "outputs": [],
      "source": [
        "#匯入所需套件\n",
        "import numpy as np \n",
        "import matplotlib.pyplot as plt \n",
        "import pandas as pd"
      ]
    },
    {
      "cell_type": "markdown",
      "metadata": {
        "id": "ZvMaMPLvIbLa"
      },
      "source": [
        "# 資料匯入與預處理"
      ]
    },
    {
      "cell_type": "code",
      "source": [
        "from google.colab import drive\n",
        "drive.mount('/content/drive')"
      ],
      "metadata": {
        "id": "gb4lEPMGLlFT"
      },
      "execution_count": null,
      "outputs": []
    },
    {
      "cell_type": "markdown",
      "source": [
        "**(1) 股票名稱: Acer Incorporated 代碼: 2353.TW**"
      ],
      "metadata": {
        "id": "6WPJ62AVr9EZ"
      }
    },
    {
      "cell_type": "code",
      "execution_count": null,
      "metadata": {
        "id": "CGS4YuUoIbLa"
      },
      "outputs": [],
      "source": [
        "#讀取下載下來的股價資料\n",
        "stock = pd.read_csv('/content/drive/MyDrive/Colab Notebooks/2353.TW.csv')\n",
        "print(len(stock)) #總資料筆數\n",
        "stock.head(10) #前10筆股價"
      ]
    },
    {
      "cell_type": "markdown",
      "source": [
        "(2) **呈現前後幾筆股價**"
      ],
      "metadata": {
        "id": "dF2fLXBjsljw"
      }
    },
    {
      "cell_type": "code",
      "execution_count": null,
      "metadata": {
        "id": "ENrWA_3lIbLb"
      },
      "outputs": [],
      "source": [
        "#刪除有missing value之紀錄\n",
        "stock = stock.dropna() #只要有一欄位有missing value就刪除\n",
        "stock.index = range(len(stock)) #重新設定索引\n",
        "print(len(stock)) #總資料筆數\n",
        "stock #觀看前後幾筆股價"
      ]
    },
    {
      "cell_type": "markdown",
      "source": [
        "**(3) 預測股價: 收盤價**"
      ],
      "metadata": {
        "id": "URb_WWIwtTk7"
      }
    },
    {
      "cell_type": "code",
      "execution_count": null,
      "metadata": {
        "id": "hN5GKU_zIbLc"
      },
      "outputs": [],
      "source": [
        "#決定要預測的股價欄位，例如欲預測收盤價，可輸入'Close'\n",
        "stock_set = stock['Close'] #預測收盤價"
      ]
    },
    {
      "cell_type": "code",
      "execution_count": null,
      "metadata": {
        "id": "HOdY4Ux6IbLc"
      },
      "outputs": [],
      "source": [
        "ref_day = int(5) #ref_day:預測參照天數"
      ]
    },
    {
      "cell_type": "markdown",
      "source": [
        "*將分割時間點由1/31改為3/31。*"
      ],
      "metadata": {
        "id": "PkB8C5S0eKuI"
      }
    },
    {
      "cell_type": "code",
      "execution_count": null,
      "metadata": {
        "id": "3SNQRmBoIbLd"
      },
      "outputs": [],
      "source": [
        "#分割訓練資料與測試資料\n",
        "length = len(stock[stock.Date<'2022-03-31'])-ref_day #決定分割時間點，例如以2022-03-31前ref_day天以前之有交易記錄的資料為training dataset\n",
        "train = stock_set[0:length] #決定資料分割時間點，例如以2022-01-31前ref_day天起為testing dataset\n",
        "test = stock_set[length:]\n",
        "train"
      ]
    },
    {
      "cell_type": "markdown",
      "source": [
        "**(3) 正規化結果**"
      ],
      "metadata": {
        "id": "bLfqkK4WtlUp"
      }
    },
    {
      "cell_type": "code",
      "execution_count": null,
      "metadata": {
        "id": "iMkBlnpFIbLe"
      },
      "outputs": [],
      "source": [
        "from sklearn import preprocessing #使用sklearn的preprocessing的MinMaxScaler進行正規化:(x-min)/(max-min)\n",
        "#執行正規化\n",
        "train = train.values.reshape(-1,1) #執行reshape，使其shape為(資料長度,1)\n",
        "scaler= preprocessing.MinMaxScaler(feature_range=(0, 1)).fit(train)\n",
        "train_nom = scaler.transform(train) #執行正規化，使得特徵值範圍介於0~1\n",
        "train_nom[0:9]"
      ]
    },
    {
      "cell_type": "code",
      "execution_count": null,
      "metadata": {
        "id": "wHYQxHLxIbLf"
      },
      "outputs": [],
      "source": [
        "#設定資料之input variable (X) 與target variable (Y)。如以被預測日前ref_day天作為input variables，以被預測日做為target variable\n",
        "def xy_set(dataset, ref_day):\n",
        "    predict_day=1 #predict_day:被預測天數\n",
        "    X = [[0 for i in range(ref_day)] for j in range(dataset.shape[0]-predict_day-ref_day)] #宣告輸入變數空集合\n",
        "    Y = [0 for j in range(dataset.shape[0]-predict_day-ref_day)] #宣告被預測變數空集合\n",
        "    for i in range(dataset.shape[0]-predict_day-ref_day):\n",
        "        X[i] = dataset[i:i+ref_day,0] #前ref_day天資料\n",
        "        Y[i] = dataset[i+ref_day:i+ref_day+predict_day,0] #第ref_day+1天資料\n",
        "    return np.array(X),np.array(Y)"
      ]
    },
    {
      "cell_type": "code",
      "execution_count": null,
      "metadata": {
        "id": "2LkCKlkJIbLf"
      },
      "outputs": [],
      "source": [
        "X_train, Y_train = xy_set(train_nom, ref_day) #區分訓練資料之input variables與output variable\n",
        "X_train = np.reshape(X_train, (X_train.shape[0], X_train.shape[1], 1)) # 轉成三維，以便符合keras recurrent之input_shape\n",
        "Y_train = np.squeeze(Y_train)\n",
        "print('輸入變數維度',X_train.shape)\n",
        "print('預測變數維度',Y_train.shape)\n",
        "print('第Y個被預測日之前ref_day天每天正規化股價')\n",
        "print(X_train[4])\n",
        "print('第Y個預測日之正規化股價')\n",
        "print(Y_train[4])"
      ]
    },
    {
      "cell_type": "markdown",
      "metadata": {
        "id": "FUok1zw-IbLg"
      },
      "source": [
        "# 模型建立"
      ]
    },
    {
      "cell_type": "code",
      "execution_count": null,
      "metadata": {
        "id": "LWXTWnl_IbLg"
      },
      "outputs": [],
      "source": [
        "from keras.models import Sequential\n",
        "from keras.layers import Dense, Dropout, Activation\n",
        "from keras.layers import LSTM"
      ]
    },
    {
      "cell_type": "code",
      "execution_count": null,
      "metadata": {
        "id": "6O7RkTgQIbLg"
      },
      "outputs": [],
      "source": [
        "model = Sequential() #建立神經網路層"
      ]
    },
    {
      "cell_type": "markdown",
      "source": [
        "*降低Dropout由0.2降至0.1。*"
      ],
      "metadata": {
        "id": "eMvcrFZLekvF"
      }
    },
    {
      "cell_type": "code",
      "execution_count": null,
      "metadata": {
        "id": "B1NiutJ_IbLh"
      },
      "outputs": [],
      "source": [
        "model.add(LSTM(units = 16, input_shape = (ref_day,1))) #於RNN層立16個神經元; input_shape(timesteps, features)\n",
        "model.add(Dropout(0.1))"
      ]
    },
    {
      "cell_type": "markdown",
      "source": [
        "*「激活函數」改為relu，減少梯度消失。*"
      ],
      "metadata": {
        "id": "GC0bYTlZLOZF"
      }
    },
    {
      "cell_type": "code",
      "execution_count": null,
      "metadata": {
        "id": "Z675U_jkIbLh"
      },
      "outputs": [],
      "source": [
        "model.add(Dense(units=256, activation='relu'))\n",
        "model.add(Dropout(0.1))"
      ]
    },
    {
      "cell_type": "code",
      "execution_count": null,
      "metadata": {
        "id": "H70auG2GIbLh"
      },
      "outputs": [],
      "source": [
        "model.add(Dense(units=1, activation='sigmoid'))"
      ]
    },
    {
      "cell_type": "markdown",
      "source": [
        "**(4) 模型摘要**"
      ],
      "metadata": {
        "id": "iGK53iiIZzye"
      }
    },
    {
      "cell_type": "code",
      "execution_count": null,
      "metadata": {
        "id": "i94Xj6cJIbLh"
      },
      "outputs": [],
      "source": [
        "model.summary()"
      ]
    },
    {
      "cell_type": "code",
      "execution_count": null,
      "metadata": {
        "id": "xCI9OYrSIbLi"
      },
      "outputs": [],
      "source": [
        "#model.compile(loss=\"mean_squared_error\", optimizer=\"adam\",metrics=['mean_squared_error']) # 屬迴歸分析，通常使用Mean Squared Error或Mean Absolute Error\n",
        "model.compile(loss=\"mean_absolute_error\", optimizer=\"adam\",metrics=['mean_absolute_error'])"
      ]
    },
    {
      "cell_type": "markdown",
      "source": [
        "**(5) 預測模型訓練過程**"
      ],
      "metadata": {
        "id": "PIYI8y7kaKjz"
      }
    },
    {
      "cell_type": "markdown",
      "source": [
        "*將validation_split由0.2降為0.1。*"
      ],
      "metadata": {
        "id": "CNgZQFf5e62h"
      }
    },
    {
      "cell_type": "code",
      "execution_count": null,
      "metadata": {
        "id": "ifnAIFUBIbLi"
      },
      "outputs": [],
      "source": [
        "train_history =model.fit(X_train, Y_train,batch_size=32,  \n",
        "                         epochs=100,verbose=1,validation_split=0.1)"
      ]
    },
    {
      "cell_type": "code",
      "execution_count": null,
      "metadata": {
        "id": "uDZDl8-6IbLj"
      },
      "outputs": [],
      "source": [
        "%pylab inline\n",
        "#讓圖形直接顯示於jupyter note\n",
        "import matplotlib.pyplot as plt\n",
        "def show_train_history(train_history,train,validation): #train_history訓練過程；train訓練結果；validation驗證結果\n",
        "    plt.plot(train_history.history[train]) #描繪訓練結果\n",
        "    plt.plot(train_history.history[validation]) #描繪驗證結果\n",
        "    plt.title('Train History') #圖標題\n",
        "    plt.ylabel(train) #y軸標籤\n",
        "    plt.xlabel('Epoch') #x軸標籤\n",
        "    plt.legend(['train', 'validation'], loc='upper left') #設定訓練與驗證之圖例及位置\n",
        "    plt.show()"
      ]
    },
    {
      "cell_type": "markdown",
      "source": [
        "**(6) 測試資料之 mean_squared_error 或 mean_absolute_error**"
      ],
      "metadata": {
        "id": "y4AZGsM6aTJN"
      }
    },
    {
      "cell_type": "code",
      "execution_count": null,
      "metadata": {
        "id": "2bIFV3U8IbLj"
      },
      "outputs": [],
      "source": [
        "show_train_history(train_history,'mean_absolute_error','val_mean_absolute_error') #訓練過程繪製成圖"
      ]
    },
    {
      "cell_type": "markdown",
      "source": [
        "*將分割時間點由1/31改為3/31。*"
      ],
      "metadata": {
        "id": "sHtHqOGNeUxG"
      }
    },
    {
      "cell_type": "code",
      "execution_count": null,
      "metadata": {
        "id": "0Dh3Mk-uIbLj"
      },
      "outputs": [],
      "source": [
        "#分割訓練資料與測試資料\n",
        "length = len(stock[stock.Date<'2021-03-31'])-ref_day #決定分割時間點，例如以2021-01-31之前的ref_day天以後之有交易記錄的資料為testing set\n",
        "test = stock_set[length:]\n",
        "#執行正規化\n",
        "test = test.values.reshape(-1,1) #執行reshape，使其shape為(資料長度,1)\n",
        "test_scaler= preprocessing.MinMaxScaler(feature_range=(0, 1)).fit(test)\n",
        "test_nom = test_scaler.transform(test) #執行正規化，使得特徵值範圍介於0~1"
      ]
    },
    {
      "cell_type": "code",
      "execution_count": null,
      "metadata": {
        "id": "gcv7yOCdIbLk"
      },
      "outputs": [],
      "source": [
        "X_test, Y_test = xy_set(test_nom, ref_day) #區分訓練資料之input variables與output variable\n",
        "X_test = np.reshape(X_test, (X_test.shape[0], X_test.shape[1], 1)) # 轉成三維，以便符合keras recurrent之input_shape\n",
        "Y_test = np.squeeze(Y_test)\n",
        "print('輸入變數維度',X_test.shape)\n",
        "print('預測變數維度',Y_test.shape)\n",
        "print('第Y個被預測日之前ref_day天每天正規化股價')\n",
        "print(X_test[4])\n",
        "print('第Y個預測日之正規化股價')\n",
        "print(Y_test[4])"
      ]
    },
    {
      "cell_type": "code",
      "execution_count": null,
      "metadata": {
        "id": "8zGmyS2bIbLk"
      },
      "outputs": [],
      "source": [
        "scores = model.evaluate(X_test, Y_test, verbose=1) #使用model.evaluate進行模型評估，評估後的績效指標會儲存於scores\n",
        "scores[1] #傳回測試資料的mean_absolute_error"
      ]
    },
    {
      "cell_type": "code",
      "execution_count": null,
      "metadata": {
        "id": "sL90mwhLIbLk"
      },
      "outputs": [],
      "source": [
        "Y_test_predict=model.predict(X_test) #測試資料預測結果\n",
        "Y_test_predict_price = test_scaler.inverse_transform(Y_test_predict) # 將正規化預測值轉換為股票價格"
      ]
    },
    {
      "cell_type": "code",
      "execution_count": null,
      "metadata": {
        "id": "YN60_UIiIbLk"
      },
      "outputs": [],
      "source": [
        "X_test_real, Y_test_real = xy_set(test, ref_day) #取得測試資料之被預測日之真實股票價格"
      ]
    },
    {
      "cell_type": "code",
      "execution_count": null,
      "metadata": {
        "id": "fX8QW0p-IbLl"
      },
      "outputs": [],
      "source": [
        "def show_test_result(Real_data,Prediciton_data):\n",
        "    plt.plot(Real_data, color=\"red\", label=\"Real Stock Price\") #描繪測試資料真實股價\n",
        "    plt.plot(Prediciton_data, color=\"blue\", label=\"Predicted Stock Price\") #描繪測試資料預測股價\n",
        "    plt.title('Stock Prediction')\n",
        "    plt.ylabel('Price') \n",
        "    plt.xlabel('Time') \n",
        "    plt.legend()\n",
        "    plt.show()"
      ]
    },
    {
      "cell_type": "markdown",
      "source": [
        "**(7) 測試資料預測股價與實際股價之比較(請繪圖)**"
      ],
      "metadata": {
        "id": "XIijfSp6ajGc"
      }
    },
    {
      "cell_type": "code",
      "execution_count": null,
      "metadata": {
        "id": "4RaLLO4dIbLl"
      },
      "outputs": [],
      "source": [
        "show_test_result(Y_test_real,Y_test_predict_price) #結果若不錯，代表可以使用此模型預測某支股票的股價"
      ]
    }
  ],
  "metadata": {
    "kernelspec": {
      "display_name": "Python 3",
      "language": "python",
      "name": "python3"
    },
    "language_info": {
      "codemirror_mode": {
        "name": "ipython",
        "version": 3
      },
      "file_extension": ".py",
      "mimetype": "text/x-python",
      "name": "python",
      "nbconvert_exporter": "python",
      "pygments_lexer": "ipython3",
      "version": "3.7.10"
    },
    "colab": {
      "name": "Stock_forecast.ipynb",
      "provenance": [],
      "collapsed_sections": []
    }
  },
  "nbformat": 4,
  "nbformat_minor": 0
}